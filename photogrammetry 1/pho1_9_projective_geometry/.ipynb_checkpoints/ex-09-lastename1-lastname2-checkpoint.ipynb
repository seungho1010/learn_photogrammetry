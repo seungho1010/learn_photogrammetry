{
 "cells": [
  {
   "cell_type": "markdown",
   "metadata": {},
   "source": [
    "## Exercise in Photogrammetry I\n",
    "## **Ex.9 : Essential Projective Geometry**\n",
    "### Hand out: xx.xx.xxxx \n",
    "### Submission: xx.xx.xxxx \n",
    "### Points: 12"
   ]
  },
  {
   "cell_type": "markdown",
   "metadata": {},
   "source": [
    "## A. Homogenous coordinates"
   ]
  },
  {
   "cell_type": "markdown",
   "metadata": {},
   "source": [
    "In this task you need to find the intersection of two lines *$l_1$* and $l_2$. The line $l_1$ is defined by two points $x_1 = [98, 352]^T$ and $x_2 = [1548, 543]^T$. You can find the parameters of the line $l_2$ by computing the following $x_3$ and $x_4$ points.\n",
    "\n",
    "The point $x_3$ is the intersection of the lines $m_1$ and $m_2$. The lines $m_1$ and $m_2$ are determined through the *Hesse normal form* with $\\theta_1=35^{\\circ}$, $d_1=1210$ and $\\theta_2=138^{\\circ}$, $d_2=978$. The point $x4$ can be found as an intersection point of lines $m_3$ and $m_4$.\n",
    "\n",
    "The lines $m_3$and $m_4$ are given in the *intercept form*, where $x_0^3 = 1945$, $y_0^3 = 2761$ and $x_0^4 = -458$, $y_0^3 = 503$.\n",
    "\n",
    "**Hints**:\n",
    "- Hesse normal form: $cos(\\theta)\\cdot x + sin(\\theta)\\cdot y = d$ \n",
    "- Intercept form: $\\frac{x}{x_0} + \\frac{y}{y_0} = 1$\n",
    "\n",
    "**Task**:\n",
    "1. Find the intersection point $s$ of line $l_1$ and $l_2$ using **projective geometry** (homogenous coordinates). Print out the **euclidiean coordinates** of points $s$, $x_3$ and $x_4$. Finally, plot both lines l1 and l2 and verify your results.\n",
    "<br> *(4 points)*"
   ]
  },
  {
   "cell_type": "code",
   "execution_count": null,
   "metadata": {},
   "outputs": [],
   "source": [
    "# import all required modules\n"
   ]
  },
  {
   "cell_type": "code",
   "execution_count": null,
   "metadata": {},
   "outputs": [],
   "source": [
    "# compute the coordinates of x_3 by using homogenous coordinates\n"
   ]
  },
  {
   "cell_type": "code",
   "execution_count": null,
   "metadata": {},
   "outputs": [],
   "source": [
    "# compute the coordinates of x_4 by using homogenous coordinates\n"
   ]
  },
  {
   "cell_type": "code",
   "execution_count": null,
   "metadata": {},
   "outputs": [],
   "source": [
    "# Given x_1 and x_2 compute the line l_1\n"
   ]
  },
  {
   "cell_type": "code",
   "execution_count": null,
   "metadata": {},
   "outputs": [],
   "source": [
    "# Given x_3 and x_4 compute the line l_2\n"
   ]
  },
  {
   "cell_type": "code",
   "execution_count": null,
   "metadata": {},
   "outputs": [],
   "source": [
    "# Given l_1 and l_2 compute the intersection points s\n"
   ]
  },
  {
   "cell_type": "code",
   "execution_count": null,
   "metadata": {},
   "outputs": [],
   "source": [
    "# print out the euclidean coordinates of s, x_3 and x_4\n"
   ]
  },
  {
   "cell_type": "code",
   "execution_count": null,
   "metadata": {},
   "outputs": [],
   "source": [
    "# finally, plot both lines l1 and l2 and verify your results\n"
   ]
  },
  {
   "cell_type": "markdown",
   "metadata": {},
   "source": [
    "## B. Projective Geometry"
   ]
  },
  {
   "cell_type": "markdown",
   "metadata": {},
   "source": [
    "You install a surveillance camera. This is a sensor width *principal point* $x_h = [400, 300]^T$ pel, *camera constant* $c = 550$ pel, *shear* $s = 0$ and *scale difference* $m = 0.0025$. You are also given the coordinates of two points in the world coordinate frame $X_1 = [1, 0, 2]$ m and $X_2 = [2, 3, 1]^T$ m.<br> *(8 points)*"
   ]
  },
  {
   "cell_type": "markdown",
   "metadata": {},
   "source": [
    "**Tasks**:\n",
    "1. Assuming the camera is located at the origin of the world with identical orientation, project the 3D points into the sensor coordinate system. Print out the *calibration matrix (K)*, *projection matrix (P)* and the *euclidean coordinates* of the sensor points. <br>*(5 points)*  \n",
    "2. Let's assume the camera has changed its location to $X_0 = [0.4, 0, 10]^T$ and is rotated by $4^\\circ$ around the Y-axis. Taking this transfomation into account, project again the given 3D points to the sensor coordinates and print out the *projection matrix (P)* and the *euclidean coordinates* of the sensor points.<br> *(3 points)*"
   ]
  },
  {
   "cell_type": "markdown",
   "metadata": {},
   "source": [
    "## B1"
   ]
  },
  {
   "cell_type": "code",
   "execution_count": null,
   "metadata": {},
   "outputs": [],
   "source": [
    "# setup the calibration matrix K and print out your result\n"
   ]
  },
  {
   "cell_type": "code",
   "execution_count": null,
   "metadata": {},
   "outputs": [],
   "source": [
    "# setup the projection matrix P and print out your result\n"
   ]
  },
  {
   "cell_type": "code",
   "execution_count": null,
   "metadata": {},
   "outputs": [],
   "source": [
    "# project the 3D points into the sensor coordinate system and print out the euclidean sensor coordinates\n"
   ]
  },
  {
   "cell_type": "markdown",
   "metadata": {},
   "source": [
    "## B2"
   ]
  },
  {
   "cell_type": "code",
   "execution_count": null,
   "metadata": {},
   "outputs": [],
   "source": [
    "# setup the projection matrix P and print out your result\n"
   ]
  },
  {
   "cell_type": "code",
   "execution_count": null,
   "metadata": {},
   "outputs": [],
   "source": [
    "# project the 3D points into the sensor coordinate system and print out the euclidean sensor coordinates\n"
   ]
  }
 ],
 "metadata": {
  "kernelspec": {
   "display_name": "Python 3",
   "language": "python",
   "name": "python3"
  },
  "language_info": {
   "codemirror_mode": {
    "name": "ipython",
    "version": 3
   },
   "file_extension": ".py",
   "mimetype": "text/x-python",
   "name": "python",
   "nbconvert_exporter": "python",
   "pygments_lexer": "ipython3",
   "version": "3.8.5"
  },
  "toc": {
   "base_numbering": 1,
   "nav_menu": {},
   "number_sections": false,
   "sideBar": true,
   "skip_h1_title": false,
   "title_cell": "Table of Contents",
   "title_sidebar": "Contents",
   "toc_cell": false,
   "toc_position": {},
   "toc_section_display": true,
   "toc_window_display": true
  }
 },
 "nbformat": 4,
 "nbformat_minor": 4
}
