{
 "cells": [
  {
   "cell_type": "markdown",
   "metadata": {},
   "source": [
    "###### Exercise in Photogrammetry I\n",
    "## **Ex.8 : Classification**\n",
    "### Hand out: 10.06.2020 \n",
    "### Submission: 19.06.2020 \n",
    "### Points: 32"
   ]
  },
  {
   "cell_type": "markdown",
   "metadata": {},
   "source": [
    "\n",
    "We have given a dataset ```data/fruits_data.npy``` which contains the average grayscale value (first column) and the length (in centimeter, second column) of apples and pears. The file ```data/fruits_label.npy``` contains the corresponding label $w$ {0=apple, 1=pear} of each fruit. Based on this dataset (so called traingset) we want to estimate the labels of the fruits in ```data/test_data.npy```(so called testset). In the end we can evaluate our classifier by comparing the predicted labels with the true labels (specified in ```data/test_label.npy```.\n",
    "\n",
    "## A. kNN - Classifier\n",
    "**Tasks:**\n",
    "1. load the training and testset and visualize them based on their labels. Don't forget the legend and to label the axes. (2 Points)\n",
    "2. write a function ```kNN(...)``` which takes as input the *training data*, the *training labels*, the *test data* (not the *test labels*!) and the number of neighbors *k*. Predict for each test point the label based on the *k* nearest neighbors of the training set. Return the predicted labels. (8 Points)\n",
    "3. Predict the labels of the testset with the ```kNN(...)``` function based on their 10 nearest neighbors. Visualize the results. (2 Points)\n",
    "4. Use the function ```plotConfusionMatrix(...)``` to compute and visualize the confusion matrix for the testset. Compute and print the precision, recall for each class (apples and pears) and the overall accuracy. (4 Points)\n",
    "\n",
    "### B. MAP - Classifier \n",
    "5. compute and print the mean $\\mu_i \\in R^{2x1}$, the covariance matrix $\\Sigma_i \\in R^{2x2}$, and the probability of occurence $P(w_i)$ for each class $w_i$ (4 Points)\n",
    "6. write a function ```MAP(...)``` which takes the means, covariance matrices and probabilities of the classes as well as the testdata and returns the predicted labels. The prediction of the labels should be based on a maximum-a-posteriori classification. Assume that the data is normal distributed. You can use the following pseudo code for your implementation (6 Points):\n",
    "    - for each class $w_i:= \\{i,\\mu_i,\\Sigma_i,P(w_i)\\}$:\n",
    "        - for each test point $e_n\\in R^{2x1}$: \n",
    "            - compute the likelihood $P(e_n|w_i)$ as a bivariate normal distribution: $P(e_n|w_i)= N(e_n|\\mu_i,\\Sigma_i) = \\frac{exp(-\\frac{1}{2}(e_n-\\mu_i)^T\\Sigma_i^{-1}(e_n-\\mu_i))}{2\\pi\\sqrt{|\\Sigma_i|}}$,  where $|\\Sigma_i|$ is the determinant of $\\Sigma_i$\n",
    "            - compute $P(w_i|e_n) = P(e_n|w_i) P(w_i)$ \n",
    "    - return the most likely class for each point: $w_{n,i^*}=\\text{arg max}_i P(w_i|e_n)$\n",
    "\n",
    "7. Predict the labels of the testset with your ```MAP(...)``` function. Visualize the results. (2 Points)\n",
    "8. Plot the confusion matrix for the MAP classification. Compute and print the precision, recall for each class (apples and pears) and the overall accuracy. (4 Points)\n",
    "\n",
    "**Hint:** numpy has a lof of usefull inbuild functions for linear algebra you can use  (np.mean(), np.cov(), np.argmax(), np.argsort(), ...). Make sure your matrices/ vectors have the expected dimensionality."
   ]
  },
  {
   "cell_type": "code",
   "execution_count": null,
   "metadata": {},
   "outputs": [],
   "source": [
    "# import all required modules\n",
    "import numpy as np\n",
    "import matplotlib.pyplot as plt\n",
    "from sklearn.metrics import confusion_matrix\n",
    "\n",
    "%matplotlib notebook"
   ]
  },
  {
   "cell_type": "code",
   "execution_count": null,
   "metadata": {},
   "outputs": [],
   "source": [
    "def plotConfusionMatrix(y_true, y_pred,\n",
    "                          normalize=False,\n",
    "                          title=None,\n",
    "                          classes = None,\n",
    "                          cmap=plt.cm.Blues):\n",
    "    \"\"\"\n",
    "    This function prints and plots the confusion matrix.\n",
    "    Normalization can be applied by setting `normalize=True`.\n",
    "    Returns the figure, the axis and the confusion matrix\n",
    "    \"\"\"\n",
    "    if not title:\n",
    "        if normalize:\n",
    "            title = 'Normalized confusion matrix'\n",
    "        else:\n",
    "            title = 'Confusion matrix, without normalization'\n",
    "\n",
    "    # Compute confusion matrix\n",
    "    cm = confusion_matrix(y_true, y_pred)\n",
    "    # Only use the labels that appear in the data\n",
    "    if classes is None:\n",
    "        classes = np.unique(y_true)\n",
    "    if normalize:\n",
    "        cm = cm.astype('float') / cm.sum(axis=1)[:, np.newaxis]\n",
    "        print(\"Normalized confusion matrix\")\n",
    "    else:\n",
    "        print('Confusion matrix, without normalization')\n",
    "\n",
    "    print(cm)\n",
    "\n",
    "    fig, ax = plt.subplots()\n",
    "    im = ax.imshow(cm, interpolation='nearest', cmap=cmap)\n",
    "    ax.figure.colorbar(im, ax=ax)\n",
    "    # We want to show all ticks...\n",
    "    ax.set(xticks=np.arange(cm.shape[1]),\n",
    "           yticks=np.arange(cm.shape[0]),\n",
    "           # ... and label them with the respective list entries\n",
    "           xticklabels=classes, yticklabels=classes,\n",
    "           title=title,\n",
    "           ylabel='True label',\n",
    "           xlabel='Predicted label')\n",
    "\n",
    "    # Rotate the tick labels and set their alignment.\n",
    "    plt.setp(ax.get_xticklabels(), rotation=45, ha=\"right\",\n",
    "             rotation_mode=\"anchor\")\n",
    "\n",
    "    # Loop over data dimensions and create text annotations.\n",
    "    fmt = '.2f' if normalize else 'd'\n",
    "    thresh = cm.max() / 2.\n",
    "    for i in range(cm.shape[0]):\n",
    "        for j in range(cm.shape[1]):\n",
    "            ax.text(j, i, format(cm[i, j], fmt),\n",
    "                    ha=\"center\", va=\"center\",\n",
    "                    color=\"white\" if cm[i, j] > thresh else \"black\")\n",
    "    fig.tight_layout()\n",
    "    return ax, fig, cm\n"
   ]
  }
 ],
 "metadata": {
  "kernelspec": {
   "display_name": "Python 3",
   "language": "python",
   "name": "python3"
  },
  "language_info": {
   "codemirror_mode": {
    "name": "ipython",
    "version": 3
   },
   "file_extension": ".py",
   "mimetype": "text/x-python",
   "name": "python",
   "nbconvert_exporter": "python",
   "pygments_lexer": "ipython3",
   "version": "3.8.5"
  },
  "toc": {
   "base_numbering": 1,
   "nav_menu": {},
   "number_sections": false,
   "sideBar": true,
   "skip_h1_title": false,
   "title_cell": "Table of Contents",
   "title_sidebar": "Contents",
   "toc_cell": false,
   "toc_position": {
    "height": "calc(100% - 180px)",
    "left": "10px",
    "top": "150px",
    "width": "256px"
   },
   "toc_section_display": true,
   "toc_window_display": true
  }
 },
 "nbformat": 4,
 "nbformat_minor": 4
}
