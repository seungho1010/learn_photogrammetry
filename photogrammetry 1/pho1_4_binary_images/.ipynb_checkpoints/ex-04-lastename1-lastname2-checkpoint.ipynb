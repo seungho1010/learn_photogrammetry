{
 "cells": [
  {
   "cell_type": "markdown",
   "metadata": {},
   "source": [
    "## Exercise in Photogrammetry I\n",
    "## **Ex.4 : Binary Images**\n",
    "### Hand out: xx.xx.xxxx \n",
    "### Submission: xx.xx.xxxx \n",
    "### Points: 30"
   ]
  },
  {
   "cell_type": "markdown",
   "metadata": {},
   "source": [
    "## A. Binary Images and Connected Components *(18 points)*\n",
    "\n",
    "In this task you will learn how to **convert grayscale** images to **binary** images by applying a certain **thresold**. Finally, based on the binary image we can **identify** which **components** are connected to compute the **number of objects** in the image.\n",
    "\n",
    "**Tasks:**\n",
    "1. Load the grayscale image ```shapes.png``` from disk and print its minimum and maximum value. Finally, visualize the grayscale image. *(0.5 points)*\n",
    "2. Convert the grayscale image to a binary image by applying a threshold of $T=100$. Make sure that all pixels > T have an intensity value of 1 (foreground) and all other pixels have an intensity value of 0 (background). Print the minimum and maximum value of your converted image. Finally, visualize the binary image. *(1.5 points)*\n",
    "3. In the lecture you discussed two algorithms to identify connected components in a binary image. Implement the *Connected Components for Grids* algorithm and apply it to the previous defined binary image by following each step outlined below:\n",
    "    - Write a function called ```connected_components(binary_img, neighborhood)``` which computes the *components image* for either *N4 neighborhood* or *N8 neighborhood* **but** does not apply the *equivalence graph* (see *Algorithm 1 in lecture*). Do not use any external python functions which compute the *components image* for you.  *(8 points)*\n",
    "      <br> **Hint:** Write functions to get the *N4* and *N8 neighborhood* since this operation will be used in other tasks as well\n",
    "      \n",
    "    - Apply your function to the binary image and visualize your result for *N4 neighborhood* and *N8 neighborhood*. *(2 points)*\n",
    "    - Apply the *equivalence graph* to the *components image* and visualize your result for *N4 neighborhood* and *N8 neighborhood*. *(4 points)*\n",
    "    - Finally, print the number of components in the binary image for *N4 neighborhood* and *N8 neighborhood*. If there is any difference explain why this is the case. *(2 points)*\n",
    "    "
   ]
  },
  {
   "cell_type": "code",
   "execution_count": 1,
   "metadata": {},
   "outputs": [],
   "source": [
    "# import all required modules\n",
    "import numpy as np\n",
    "import matplotlib.pyplot as plt\n",
    "import matplotlib.image as img\n",
    "from skimage import io"
   ]
  },
  {
   "cell_type": "markdown",
   "metadata": {},
   "source": [
    "### A1"
   ]
  },
  {
   "cell_type": "code",
   "execution_count": 2,
   "metadata": {},
   "outputs": [],
   "source": [
    "# Load the grayscale image\n",
    "image = io.imread(\"./images/shapes.png\")"
   ]
  },
  {
   "cell_type": "code",
   "execution_count": 3,
   "metadata": {},
   "outputs": [
    {
     "name": "stdout",
     "output_type": "stream",
     "text": [
      "minimum value:  0 , maximum value:  180\n"
     ]
    }
   ],
   "source": [
    "# Print the minimum and maximum value of the grayscale image\n",
    "print(\"minimum value: \", np.min(image), \", maximum value: \", np.max(image))"
   ]
  },
  {
   "cell_type": "code",
   "execution_count": 4,
   "metadata": {},
   "outputs": [
    {
     "data": {
      "image/png": "[encoded data removed]",
      "text/plain": [
       "<Figure size 432x288 with 1 Axes>"
      ]
     },
     "metadata": {
      "needs_background": "light"
     },
     "output_type": "display_data"
    }
   ],
   "source": [
    "# Visualize the grayscale image\n",
    "io.imshow(image)\n",
    "plt.show()"
   ]
  },
  {
   "cell_type": "markdown",
   "metadata": {},
   "source": [
    "### A2"
   ]
  },
  {
   "cell_type": "code",
   "execution_count": 5,
   "metadata": {},
   "outputs": [],
   "source": [
    "# Convert the grayscale image to a binary image {0,1}\n",
    "row = image.shape[1]\n",
    "col = image.shape[0]\n",
    "\n",
    "binary_image = np.zeros((col, row))\n",
    "for i in range(row):\n",
    "    for j in range(col):\n",
    "        if image[j, i] > 100:\n",
    "            binary_image[j, i] = 1"
   ]
  },
  {
   "cell_type": "code",
   "execution_count": 6,
   "metadata": {},
   "outputs": [
    {
     "name": "stdout",
     "output_type": "stream",
     "text": [
      "minimum value:  0.0 , maximum value:  1.0\n"
     ]
    }
   ],
   "source": [
    "# Print the minimum and maximum value of the binary image\n",
    "print(\"minimum value: \", np.min(binary_image), \", maximum value: \", np.max(binary_image))"
   ]
  },
  {
   "cell_type": "code",
   "execution_count": 7,
   "metadata": {},
   "outputs": [
    {
     "data": {
      "image/png": "[encoded data removed]",
      "text/plain": [
       "<Figure size 432x288 with 1 Axes>"
      ]
     },
     "metadata": {
      "needs_background": "light"
     },
     "output_type": "display_data"
    }
   ],
   "source": [
    "# Visualize the binary image\n",
    "io.imshow(binary_image)\n",
    "plt.show()"
   ]
  },
  {
   "cell_type": "markdown",
   "metadata": {},
   "source": [
    "### A3"
   ]
  },
  {
   "cell_type": "code",
   "execution_count": 66,
   "metadata": {},
   "outputs": [],
   "source": [
    "# Write a function called connected_components(binary_img, neighborhood)\n",
    "def connected_components(binary_img, neighborhood):\n",
    "    \"\"\" Find Connected Components.\n",
    "\n",
    "    Args:\n",
    "        binary_img (numpy.array, shape = (col, row)): value [0, 1].\n",
    "        neighborhood (string): n4 or n8.\n",
    "\n",
    "    Returns:\n",
    "        CCimage (numpy.array, shape = (col, row)): value [0, 1, ... K].\n",
    "    \"\"\"\n",
    "    \n",
    "    row = binary_img.shape[1]\n",
    "    col = binary_img.shape[0]\n",
    "    \n",
    "    visited = np.zeros((col, row), dtype=np.uint8)\n",
    "    CCimage = np.zeros((col, row), dtype=np.uint8)\n",
    "    index_num = 1\n",
    "    \n",
    "    for i in range(col):\n",
    "        for j in range(row):\n",
    "            if binary_img[i, j] == 1 and visited[i, j] == 0:\n",
    "                pos = np.array([i, j])\n",
    "                #print(\"O\", pos)\n",
    "                CC_image, visited = update_CCimage(binary_img, CCimage, visited, index_num, pos, neighborhood)\n",
    "                index_num = index_num + 1\n",
    "            elif visited[i, j] == 0:\n",
    "                visited[i, j] = 1\n",
    "                \n",
    "    return CCimage\n",
    "            \n",
    "\n",
    "def find_neighborhood(binary_img, visited, pos, neighborhood):\n",
    "    \"\"\" Find neighborhooda.\n",
    "\n",
    "    Args:\n",
    "        binary_img (numpy.array, shape = (col, row)): value [0, 1].\n",
    "        visited (numpy.array, shape = (col, row)): value [0, 1].\n",
    "        pos (numpy,array, shape = (1, 2)).\n",
    "        neighborhood (string): n4 or n8.\n",
    "\n",
    "    Returns:\n",
    "        nh_array (numpy.array, shape = (K, 2)): ex) [[pos_1], [pos_2], ...].\n",
    "    \"\"\"\n",
    "    row = visited.shape[1]\n",
    "    col = visited.shape[0]\n",
    "        \n",
    "    nh_array = np.array([[0, 0]])\n",
    "    if neighborhood == 'n4':\n",
    "        if pos[0] > 0:\n",
    "            nh_array = np.append(nh_array, [[pos[0] - 1, pos[1]]], axis=0)\n",
    "        if pos[0] < col - 1:\n",
    "            nh_array = np.append(nh_array, [[pos[0] + 1, pos[1]]], axis=0)\n",
    "        if pos[1] > 0:\n",
    "            nh_array = np.append(nh_array, [[pos[0], pos[1] - 1]], axis=0)\n",
    "        if pos[1] < row - 1:\n",
    "            nh_array = np.append(nh_array, [[pos[0], pos[1] + 1]], axis=0)\n",
    "    elif neighborhood == 'n8':\n",
    "        if pos[0] > 0:\n",
    "            nh_array = np.append(nh_array, [[pos[0] - 1, pos[1]]], axis=0)\n",
    "            if pos[1] > 0:\n",
    "                nh_array = np.append(nh_array, [[pos[0] - 1, pos[1] - 1]], axis=0)\n",
    "            if pos[1] < row - 1:\n",
    "                nh_array = np.append(nh_array, [[pos[0] - 1, pos[1] + 1]], axis=0)\n",
    "        if pos[0] < col - 1:\n",
    "            nh_array = np.append(nh_array, [[pos[0] + 1, pos[1]]], axis=0)\n",
    "            if pos[1] > 0:\n",
    "                nh_array = np.append(nh_array, [[pos[0] + 1, pos[1] - 1]], axis=0)\n",
    "            if pos[1] < row - 1:\n",
    "                nh_array = np.append(nh_array, [[pos[0] + 1, pos[1] + 1]], axis=0) \n",
    "        if pos[1] > 0:\n",
    "            nh_array = nh_array = np.append(nh_array, [[pos[0], pos[1] - 1]], axis=0)\n",
    "        if pos[1] < row - 1:\n",
    "            nh_array = np.append(nh_array, [[pos[0], pos[1] + 1]], axis=0)\n",
    "   \n",
    "    nh_array = np.delete(nh_array, 0, 0)\n",
    "    delete_ = np.array([], dtype=np.uint8)\n",
    "    for i in range(len(nh_array)):\n",
    "        if visited[nh_array[i, 0], nh_array[i, 1]] == 1 or binary_img[nh_array[i, 0], nh_array[i, 1]] == 0:\n",
    "            delete_ = np.append(delete_, [i])\n",
    "    nh_array = np.delete(nh_array, delete_, 0)\n",
    "     \n",
    "    return nh_array\n",
    "\n",
    "def update_CCimage(binary_img, CCimage, visited, index_num, pos, neighborhood):\n",
    "    \"\"\" Update Connected componets Image.\n",
    "\n",
    "    Args:\n",
    "        binary_img (numpy.array, shape = (col, row)): value [0, 1].\n",
    "        CCimage (numpy.array, shape = (col, row)): value [0, 1, ... K].\n",
    "        visited  (numpy.array, shape = (col, row)): value [0, 1].\n",
    "        index_num (int): \n",
    "        pos (numpy,array, shape = (1, 1)).\n",
    "        neighborhood (string): n4 or n8.\n",
    "    \n",
    "    Returns:\n",
    "        CCimage (numpy.array, shape = (col, row)): value [0, 1, ... K].\n",
    "        visited  (numpy.array, shape = (col, row)): value [0, 1].\n",
    "    \"\"\"\n",
    "    nh_array = find_neighborhood(binary_img, visited, pos, neighborhood)\n",
    "    visited[pos[0], pos[1]] = 1\n",
    "    CCimage[pos[0], pos[1]] = index_num\n",
    "  \n",
    "    while len(nh_array) != 0:\n",
    "        tmp = np.array([nh_array[0, 0], nh_array[0, 1]])\n",
    "        visited[tmp[0], tmp[1]] = 1\n",
    "        CCimage[tmp[0], tmp[1]] = index_num\n",
    "        nh_array = np.delete(nh_array, 0, 0)\n",
    "        \n",
    "        nh_array_ = find_neighborhood(binary_img, visited, tmp, neighborhood)\n",
    "        nh_array = np.append(nh_array, nh_array_, axis=0)\n",
    "        \n",
    "        CCimage, visited = update_CCimage(binary_img, CCimage, visited, index_num, tmp, neighborhood)\n",
    "\n",
    "    return CCimage, visited\n",
    "    "
   ]
  },
  {
   "cell_type": "code",
   "execution_count": 71,
   "metadata": {},
   "outputs": [
    {
     "data": {
      "text/plain": [
       "<Figure size 432x288 with 0 Axes>"
      ]
     },
     "metadata": {},
     "output_type": "display_data"
    },
    {
     "data": {
      "image/png": "[encoded data removed]",
      "text/plain": [
       "<Figure size 1080x504 with 2 Axes>"
      ]
     },
     "metadata": {
      "needs_background": "light"
     },
     "output_type": "display_data"
    }
   ],
   "source": [
    "# Compute the components image with N4 Neighborhood and visualize your result\n",
    "CCimage_n4 = connected_components(binary_image, 'n4')\n",
    "CCimage_n8 = connected_components(binary_image, 'n8')\n",
    "\n",
    "fig = plt.figure()\n",
    "fig = plt.figure(figsize=(15,7))\n",
    "\n",
    "ax1 = fig.add_subplot(1, 2, 1)\n",
    "ax1.imshow(CCimage_n4, cmap = 'gray')\n",
    "ax1.set_title('neighborhood = n4')\n",
    "ax1.axis(\"off\")\n",
    "\n",
    "ax2 = fig.add_subplot(1, 2, 2)\n",
    "ax2.imshow(CCimage_n8, cmap = 'gray')\n",
    "ax2.set_title('neighborhood = n8')\n",
    "ax2.axis(\"off\")\n",
    "\n",
    "plt.show()"
   ]
  },
  {
   "cell_type": "code",
   "execution_count": 72,
   "metadata": {},
   "outputs": [],
   "source": [
    "# Compute the components image with N8 Neighborhood and visualize your result\n",
    "# pass"
   ]
  },
  {
   "cell_type": "code",
   "execution_count": null,
   "metadata": {},
   "outputs": [],
   "source": [
    "def equivalence_graph(binary_image, neighborhood):\n",
    "    \"\"\" Update Connected componets Image Using equivalence graph.\n",
    "\n",
    "    Args:\n",
    "        binary_img (numpy.array, shape = (col, row)): value [0, 1].\n",
    "        neighborhood (string): n4 or n8.\n",
    "    \n",
    "    Returns:\n",
    "        CCimage (numpy.array, shape = (col, row)): value [0, 1, ... K].\n",
    "        Equivallence_table (numpy.array): value [[same_index_1], [same_index_2], ...]\n",
    "    \"\"\"\n",
    "    row = visited.shape[1]\n",
    "    col = visited.shape[0]\n",
    "    \n",
    "    CCimage = np.zeros([col, row])\n",
    "    index_num = 1\n",
    "    # first row\n",
    "    if binary_image[0, 0] == 1:\n",
    "        CCimage[0, 0] = index_num\n",
    "        index_num = index_num + 1\n",
    "    for i in range(row-1):\n",
    "        if binary_image[0, i+1] == 1:\n",
    "            if CCimage[0, i] != 0:\n",
    "                CCimage[0, i+1] = CCimage[0, i]\n",
    "            else:\n",
    "                CCimage[0, i+1] = index_num\n",
    "                index_num = index_num + 1\n",
    "                \n",
    "    # second row ~ end row\n",
    "    if neighborhood == 'n4':\n",
    "        for i in range(col):\n",
    "            if binary_image[i+1, 0] == 1:\n",
    "                if binary_image[i, 0] == 1:\n",
    "                    CCimage[i+1, 0] = CCimage[i, 0]\n",
    "                else:\n",
    "                    CCimage[i+1, 0] = index_num\n",
    "                    index_num = index_num + 1     \n",
    "            for j in range(row-1):\n",
    "                if binary_image[i+1, j+1] == 1:\n",
    "                    if binary_image[i+1, j] == 1:\n",
    "                        CCimage[i+1, j+1] = CCimage[i+1, j]\n",
    "                    else:\n",
    "                        if binary_image[i, j+1] == 1:\n",
    "                            CCimage[i+1, j+1] = CCimage[i, j+1]\n",
    "                        else:\n",
    "                            CCimage[i+1, j+1] = index_num\n",
    "                            index_num = index_num + 1\n",
    "    elif neighborhood == 'n8':\n",
    "        for i in range(col):\n",
    "            if binary_image[i+1, 0] == 1:\n",
    "                if binary_image[i, 0] == 1:\n",
    "                    CCimage[i+1, 0] = CCimage[i, 0]\n",
    "                else:\n",
    "                    CCimage[i+1, 0] = index_num\n",
    "                    index_num = index_num + 1     \n",
    "            for j in range(row-1):\n",
    "                if binary_image[i+1, j+1] == 1:\n",
    "                    if binary_image[i+1, j] == 1:\n",
    "                        CCimage[i+1, j+1] = CCimage[i+1, j]\n",
    "                    else:\n",
    "                        if binary_image[i, j] == 1:\n",
    "                            CCimage[i+1, j+1] = CCimage[i, j]\n",
    "                        else:\n",
    "                            if binary_image[i, j+1] == 1:\n",
    "                                CCimage[i+1, j+1] = CCimage[i, j+1]\n",
    "                            else:\n",
    "                                CCimage[i+1, j+1] = index_num\n",
    "                                index_num = index_num + 1\n",
    "   \n",
    "    return CCimage"
   ]
  },
  {
   "cell_type": "code",
   "execution_count": null,
   "metadata": {},
   "outputs": [],
   "source": [
    "# Apply the equivalence graph to your components image with N4 Neighborhood and visualize your result\n"
   ]
  },
  {
   "cell_type": "code",
   "execution_count": null,
   "metadata": {},
   "outputs": [],
   "source": [
    "# Apply the equivalence graph to your components image with N8 Neighborhood and visualize your result\n"
   ]
  },
  {
   "cell_type": "code",
   "execution_count": null,
   "metadata": {},
   "outputs": [],
   "source": [
    "# Print the number of components in the binary image for N4 Neighborhood and N8 Neighborhood\n"
   ]
  },
  {
   "cell_type": "markdown",
   "metadata": {},
   "source": [
    "If there is any difference in the number of components explains why this is the case:<br>\n",
    "*Your answer*"
   ]
  },
  {
   "cell_type": "markdown",
   "metadata": {},
   "source": [
    "## B. Morphological Operations and Distance Transformation *(12 points)*"
   ]
  },
  {
   "cell_type": "markdown",
   "metadata": {},
   "source": [
    "In the lecture your discussed *Morphological Operators* to expand and shrink the foreground of binary images as well as the *Distance Transformation* to compute the distance from any pixel to the border of the components.\n",
    "\n",
    "**Tasks:**\n",
    "1. Implement the *Distance Transformation* algorithm and apply it to the previous defined binary image (*A2*) by following each step outlined below:\n",
    "    - Write a function called ```distance_transformation(binary_img, neighborhood)``` which computes the *distance image* for either *N4 neighborhood* or *N8 neighborhood*. Do not use any external python functions which compute the *distance image* for you. *(5 points)*\n",
    "    - Apply your function to the binary image and visualize your result for *N4 neighborhood* and *N8 neighborhood*. *(2 points)*\n",
    "    \n",
    "2. Apply a *Dilation* to the binary image by using the the ```skimage.morphology``` module ([link](https://scikit-image.org/docs/dev/api/skimage.morphology.html#skimage.morphology.dilation))\n",
    "    - Follow the steps provided by the [example](https://scikit-image.org/docs/dev/api/skimage.morphology.html#skimage.morphology.dilation) to dilate the binary image *(2 points)*\n",
    "    - Visualize your results and describe your observations *(1 point)*\n",
    "    \n",
    "3. Finally, apply the *Distance Transformation* with N4 neighborhood to the dilated binary image and visualize your result. *(2 points)*"
   ]
  },
  {
   "cell_type": "markdown",
   "metadata": {},
   "source": [
    "### B1"
   ]
  },
  {
   "cell_type": "code",
   "execution_count": null,
   "metadata": {},
   "outputs": [],
   "source": [
    "# Write a function called distance_transformation(binary_img, neighborhood) to compute the distance matrix\n"
   ]
  },
  {
   "cell_type": "code",
   "execution_count": null,
   "metadata": {},
   "outputs": [],
   "source": [
    "# Compute the distance matrix with N4 Neighborhood and visualize your result\n"
   ]
  },
  {
   "cell_type": "code",
   "execution_count": null,
   "metadata": {},
   "outputs": [],
   "source": [
    "# Compute the distance matrix with N8 Neighborhood and visualize your result\n"
   ]
  },
  {
   "cell_type": "markdown",
   "metadata": {},
   "source": [
    "### B2"
   ]
  },
  {
   "cell_type": "code",
   "execution_count": null,
   "metadata": {},
   "outputs": [],
   "source": [
    "# Apply a Dilation to the binary image\n"
   ]
  },
  {
   "cell_type": "code",
   "execution_count": null,
   "metadata": {},
   "outputs": [],
   "source": [
    "# Visualize the dilated binary image\n"
   ]
  },
  {
   "cell_type": "markdown",
   "metadata": {},
   "source": [
    "**Explain your observations here**\n"
   ]
  },
  {
   "cell_type": "markdown",
   "metadata": {},
   "source": [
    "### B3"
   ]
  },
  {
   "cell_type": "code",
   "execution_count": null,
   "metadata": {},
   "outputs": [],
   "source": [
    "# Compute the distance matrix with N4 Neighborhood of the dilated binary image\n"
   ]
  },
  {
   "cell_type": "code",
   "execution_count": null,
   "metadata": {},
   "outputs": [],
   "source": [
    "# Visualze the corresponding distance matrix\n"
   ]
  }
 ],
 "metadata": {
  "kernelspec": {
   "display_name": "Python 3",
   "language": "python",
   "name": "python3"
  },
  "language_info": {
   "codemirror_mode": {
    "name": "ipython",
    "version": 3
   },
   "file_extension": ".py",
   "mimetype": "text/x-python",
   "name": "python",
   "nbconvert_exporter": "python",
   "pygments_lexer": "ipython3",
   "version": "3.8.8"
  },
  "toc": {
   "base_numbering": 1,
   "nav_menu": {},
   "number_sections": false,
   "sideBar": true,
   "skip_h1_title": false,
   "title_cell": "Table of Contents",
   "title_sidebar": "Contents",
   "toc_cell": false,
   "toc_position": {
    "height": "calc(100% - 180px)",
    "left": "10px",
    "top": "150px",
    "width": "256px"
   },
   "toc_section_display": true,
   "toc_window_display": true
  }
 },
 "nbformat": 4,
 "nbformat_minor": 4
}
