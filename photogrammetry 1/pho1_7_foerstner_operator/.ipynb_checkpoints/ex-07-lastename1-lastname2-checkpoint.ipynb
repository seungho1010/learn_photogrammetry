{
 "cells": [
  {
   "cell_type": "markdown",
   "metadata": {},
   "source": [
    "###### Exercise in Photogrammetry I\n",
    "## **Ex.7 : Corresponding Points and Förstner Operator**\n",
    "### Hand out: xx.xx.xxxx\n",
    "### Submission: xx.xx.xxxx \n",
    "### Points: 25"
   ]
  },
  {
   "cell_type": "markdown",
   "metadata": {},
   "source": [
    "## A. Corresponding Points\n",
    "\n",
    "You are given two images. We would like to extract corresponding points from both images which could later be used  e.g. for image alignment, 3D reconstruction, or camera calibration. \n",
    "\n",
    "**Tasks:**\n",
    "1. Load the images ```'images/beach1.png'``` and ```'images/beach2.png'```, convert it to float, and visualize both images. (1 Point)\n",
    "2. Extract the corners for each image with the 'Förstner-Operator' and visualize the results. **Hint:** you can use the functions ```corner_foerstner(...)``` and ```corner_peaks(...)``` from scikit: [example](https://scikit-image.org/docs/stable/api/skimage.feature.html#corner-foerstner). Use the following parameters:\n",
    "```accuracy_thresh = 0.6; roundness_thresh = 0.0\n",
    "```\n",
    ". (6 Points)\n",
    "3. Compute the cross-correlation between each corner from the first image to each corner of the second image. Use the 13x13 neighborhoods for computing the cross-correlation. Make sure that each corner has a well defined neighborhood (you can delete the others beforehand). The result should be a matrix $C \\in R^{nxm}$ where ```C[i,j]``` is the cross-correlation between the *i'th* corner from the first image to the *j'th* corner from the second image. (10 Points)\n",
    "4. Visualize for each corner of the first image the best corresponding corner in the second image. (4 Points)\n",
    "\n",
    "**Hint:** Write functions. It makes the code more readable and intuitive. \n",
    "\n",
    "## B. Förstner Operator\n",
    "1. Describe the ellipsoid of the covariance matrix which gets computed in the corner extraction method from Förstner for the following points (2 Points):\n",
    "   1. a corner point.\n",
    "   2. a point on a vertical edge \n",
    "   3. a point on a horizontal edge\n",
    "   4. a point in a homogenous area\n",
    "2. How is the shape/ size of the covariance ellipsoid affecting the matching accuracy? (2 Point)"
   ]
  }
 ],
 "metadata": {
  "kernelspec": {
   "display_name": "Python 3",
   "language": "python",
   "name": "python3"
  },
  "language_info": {
   "codemirror_mode": {
    "name": "ipython",
    "version": 3
   },
   "file_extension": ".py",
   "mimetype": "text/x-python",
   "name": "python",
   "nbconvert_exporter": "python",
   "pygments_lexer": "ipython3",
   "version": "3.8.5"
  },
  "toc": {
   "base_numbering": 1,
   "nav_menu": {},
   "number_sections": false,
   "sideBar": true,
   "skip_h1_title": false,
   "title_cell": "Table of Contents",
   "title_sidebar": "Contents",
   "toc_cell": false,
   "toc_position": {
    "height": "calc(100% - 180px)",
    "left": "10px",
    "top": "150px",
    "width": "256px"
   },
   "toc_section_display": true,
   "toc_window_display": true
  }
 },
 "nbformat": 4,
 "nbformat_minor": 4
}
