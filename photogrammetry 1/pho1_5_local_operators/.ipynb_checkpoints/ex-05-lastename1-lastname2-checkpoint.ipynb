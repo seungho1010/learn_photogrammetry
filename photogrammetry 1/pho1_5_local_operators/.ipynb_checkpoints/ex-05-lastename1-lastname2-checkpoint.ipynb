{
 "cells": [
  {
   "cell_type": "markdown",
   "metadata": {},
   "source": [
    "## Exercise in Photogrammetry I\n",
    "## **Ex.5 : Local Operators**\n",
    "### Hand out: xx.xx.xxxx\n",
    "### Submission: xx.xx.xxxx \n",
    "### Points: 25"
   ]
  },
  {
   "cell_type": "markdown",
   "metadata": {},
   "source": [
    "## A. Image convolutions\n",
    "\n",
    "In this task you will learn how to apply local operators in the form of image convolutions.\n",
    "A convolution *g* of a symmetric 3x3 Kernel *w* with an image *f* is defined as:\n",
    "\n",
    "$g(i,j)= \\sum_{k,l=-1}^1 f(i-k,j-l)\\cdot w(k,l)$\n",
    "\n",
    "In this exercise we will brake down the convolution in multiple steps. This allows for a more intuitive and efficient way by bypassing alot of the indexing and working with matrices.\n",
    "\n",
    "**Pseudo Code - imageConv(f,w):**\n",
    "1. *w_s*:= row and columnwise flipped kernel *w* .\n",
    "2. for each pixel *f(i,j)*:\n",
    "    1. *N_ij* = N8 neighborhood of the pixel *f(i,j)* (3x3 matrix).\n",
    "    2. *p = w_s * N_ij*, * denotes the elementwise multiplication\n",
    "    3. *g(i,j)*= sum(*p*).\n",
    "\n",
    "**Tasks:**\n",
    "1. compute the convolution for the following image *f* and kernel *w* by **hand**. Follow the provided pseudo code and write down the results of each step. Scan/ take a photo from the sheet(s) and visualize it. Compute the convolution just for the 2 pixels in the middle (*g(1,1), g(2,1)*). (7 points)"
   ]
  },
  {
   "cell_type": "code",
   "execution_count": null,
   "metadata": {},
   "outputs": [],
   "source": [
    "# import all required modules\n",
    "import skimage.io\n",
    "import numpy as np\n",
    "import matplotlib.pyplot as plt\n",
    "from scipy import ndimage\n",
    "%matplotlib notebook"
   ]
  },
  {
   "cell_type": "code",
   "execution_count": null,
   "metadata": {},
   "outputs": [],
   "source": [
    "# Image f and Kernel w for A1\n",
    "f = np.array([[0,1,0,2],[0,1,3,1],[1,0,0,2]])\n",
    "print('Test Image:')\n",
    "print(f)\n",
    "\n",
    "w = np.array([[1,2,3],[4,5,6],[7,8,9]])\n",
    "print('Test Kernel:')\n",
    "print(w)\n",
    "plt.figure()\n",
    "plt.imshow(f, cmap='gray')\n",
    "plt.show()"
   ]
  },
  {
   "cell_type": "code",
   "execution_count": null,
   "metadata": {},
   "outputs": [],
   "source": [
    "# Plot the result sheet with the answers of A1 here:"
   ]
  },
  {
   "cell_type": "markdown",
   "metadata": {},
   "source": [
    "### **Tasks:**\n",
    "2. write a function ```imageConv(f,w)``` which implements the pseudo code and returns the image after applying the convolution. Compute the convolution for all pixels where the neighborhood is well defined. The border can be set to zero (also called zero padding). (8  points)\n",
    "3. load the image ```images/house-downsampled.png``` as a grayscale image and visualize it. (1 point)\n",
    "4. compute the convolution of the image with the following **3x3** kernels and visualize the results. Use your implementation of ```imageConv(f,w)``` for applying the convolution:\n",
    "    1. Box filter (1 point)\n",
    "    2. Binominal filter (1 point)\n",
    "    3. Sobel Operator. Compute the absolute gradient (2 points)\n",
    "5. compute the convolution of the image with the following **5x5** kernels and visualize the results. Use the function ```ndimage.convolve(...)``` from scipy for applying the convolution. **Hint:** For more information about the function press ```shift + tab``` or look into the [documentation](https://docs.scipy.org/doc/scipy/reference/generated/scipy.ndimage.convolve.html#scipy.ndimage.convolve).\n",
    "    1. Box filter (1 point)\n",
    "    2. Binominal filter (1 point)\n",
    "6. evaluate the results of the tasks 4 and 5. (3 point)"
   ]
  }
 ],
 "metadata": {
  "kernelspec": {
   "display_name": "Python 3",
   "language": "python",
   "name": "python3"
  },
  "language_info": {
   "codemirror_mode": {
    "name": "ipython",
    "version": 3
   },
   "file_extension": ".py",
   "mimetype": "text/x-python",
   "name": "python",
   "nbconvert_exporter": "python",
   "pygments_lexer": "ipython3",
   "version": "3.8.5"
  },
  "toc": {
   "base_numbering": 1,
   "nav_menu": {},
   "number_sections": false,
   "sideBar": true,
   "skip_h1_title": false,
   "title_cell": "Table of Contents",
   "title_sidebar": "Contents",
   "toc_cell": false,
   "toc_position": {
    "height": "calc(100% - 180px)",
    "left": "10px",
    "top": "150px",
    "width": "256px"
   },
   "toc_section_display": true,
   "toc_window_display": true
  }
 },
 "nbformat": 4,
 "nbformat_minor": 4
}
