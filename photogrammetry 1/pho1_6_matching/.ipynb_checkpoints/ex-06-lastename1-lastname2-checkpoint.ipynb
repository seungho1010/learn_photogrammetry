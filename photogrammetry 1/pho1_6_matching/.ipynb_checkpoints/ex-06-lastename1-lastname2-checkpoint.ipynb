{
 "cells": [
  {
   "cell_type": "markdown",
   "metadata": {},
   "source": [
    "###### Exercise in Photogrammetry I\n",
    "## **Ex.6 : Matching**\n",
    "### Hand out: xx.xx.xxxx\n",
    "### Submission: xx.xx.xxxx\n",
    "### Points: 15"
   ]
  },
  {
   "cell_type": "markdown",
   "metadata": {},
   "source": [
    "## A. Cross Correlation\n",
    "\n",
    "We have given an image ```I``` of an text. We would like to find all the locations of the letter 'a' in this text.\n",
    "\n",
    "**Tasks:**\n",
    "1. Load the image ```'images/text.png'``` as an grayscale image and visualize it. Convert it for further computations to float values. (1 Point)\n",
    "2. Extract the letter 'a' from the image at ```I(13:22,66:75)```. The resulting patch should be of size *(9x9)*. Visualize it and print out the shape. (1 Point)\n",
    "3. Write a function ```imageCorrelation(image,patch)``` which computes the correlation between an image and a patch. Compute the correlation values only for the pixels where the neighborhood is well defined.\n",
    "**Hint:** You can modify the function ```imageConv(...)``` from the last exercise for this. The kernel must not be flipped for the correlation. You have to normalize the kernel and the neighborhood so that both are standard normal distributed: $N_{ij} \\in N(0,1), w_{ij}\\in N(0,1)$. (5 Points)\n",
    "4. Compute the correlation for the given image and the extracted patch. Visualize the result. (1 Point)\n",
    "5. Search and mark the maxima in the correlation image. A maxima is each pixel over 80% of the global maxima. (2 Points)\n",
    "6. Why are only 3 of 5 a's detected. Write your answer in a markdown cell. (1 Points)\n",
    "7. How can you also detect the other 2 a's. Implement your idea and show that you can find all a's. (4 Points)"
   ]
  },
  {
   "cell_type": "code",
   "execution_count": null,
   "metadata": {},
   "outputs": [],
   "source": [
    "# import all required modules\n",
    "import skimage.io\n",
    "import numpy as np\n",
    "import matplotlib.pyplot as plt\n",
    "import scipy.ndimage\n",
    "%matplotlib notebook"
   ]
  }
 ],
 "metadata": {
  "kernelspec": {
   "display_name": "Python 3",
   "language": "python",
   "name": "python3"
  },
  "language_info": {
   "codemirror_mode": {
    "name": "ipython",
    "version": 3
   },
   "file_extension": ".py",
   "mimetype": "text/x-python",
   "name": "python",
   "nbconvert_exporter": "python",
   "pygments_lexer": "ipython3",
   "version": "3.8.5"
  },
  "toc": {
   "base_numbering": 1,
   "nav_menu": {},
   "number_sections": false,
   "sideBar": true,
   "skip_h1_title": false,
   "title_cell": "Table of Contents",
   "title_sidebar": "Contents",
   "toc_cell": false,
   "toc_position": {
    "height": "calc(100% - 180px)",
    "left": "10px",
    "top": "150px",
    "width": "256px"
   },
   "toc_section_display": true,
   "toc_window_display": true
  }
 },
 "nbformat": 4,
 "nbformat_minor": 4
}
