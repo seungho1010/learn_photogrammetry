{
 "cells": [
  {
   "cell_type": "markdown",
   "metadata": {},
   "source": [
    "# Exercise in Photogrammetry I\n",
    "## **Ex.1 : Essential Python Programming**"
   ]
  },
  {
   "cell_type": "markdown",
   "metadata": {},
   "source": [
    "## A. Python Varialbes\n",
    "\n",
    "A variable is a container for a value, which can be of various types, e.g., int, float and str."
   ]
  },
  {
   "cell_type": "markdown",
   "metadata": {},
   "source": [
    "## A1 \n",
    "\n",
    "**Task**: Define two variables $x$ and $y$ and compute their divsion and sum. Let $x$ be equal to 10 and $y=3$. **Print out** the **type** of $x$, $y$, $\\frac{x}{y}$ and $x+y$ as well as the **result** of their divsion and sum. (2 Points)"
   ]
  },
  {
   "cell_type": "code",
   "execution_count": 5,
   "metadata": {
    "ExecuteTime": {
     "end_time": "2021-08-22T06:48:26.479657Z",
     "start_time": "2021-08-22T06:48:26.471649Z"
    }
   },
   "outputs": [
    {
     "name": "stdout",
     "output_type": "stream",
     "text": [
      "x:  10 , y:  3\n"
     ]
    }
   ],
   "source": [
    "# Define the variables in this cell\n",
    "x = 10; y = 3\n",
    "print(\"x: \", x, \", y: \", y)"
   ]
  },
  {
   "cell_type": "code",
   "execution_count": 11,
   "metadata": {
    "ExecuteTime": {
     "end_time": "2021-08-22T06:52:40.107416Z",
     "start_time": "2021-08-22T06:52:40.093403Z"
    }
   },
   "outputs": [
    {
     "name": "stdout",
     "output_type": "stream",
     "text": [
      "x / y:  3.3333333333333335\n"
     ]
    }
   ],
   "source": [
    "# Compute the divsion of both variables\n",
    "division_ = x / y\n",
    "print(\"x / y: \", division_)"
   ]
  },
  {
   "cell_type": "code",
   "execution_count": 7,
   "metadata": {
    "ExecuteTime": {
     "end_time": "2021-08-22T06:50:43.224069Z",
     "start_time": "2021-08-22T06:50:43.222067Z"
    }
   },
   "outputs": [
    {
     "name": "stdout",
     "output_type": "stream",
     "text": [
      "x + y:  13\n"
     ]
    }
   ],
   "source": [
    "# Compute the sum of both variables\n",
    "sum_ = x + y\n",
    "print(\"x + y: \", sum_)"
   ]
  },
  {
   "cell_type": "code",
   "execution_count": 8,
   "metadata": {
    "ExecuteTime": {
     "end_time": "2021-08-22T06:51:23.791936Z",
     "start_time": "2021-08-22T06:51:23.789593Z"
    }
   },
   "outputs": [
    {
     "name": "stdout",
     "output_type": "stream",
     "text": [
      "type x:  <class 'int'> , type y:  <class 'int'>\n"
     ]
    }
   ],
   "source": [
    "# Print out the data types in this cell\n",
    "print(\"type x: \", type(x), \", type y: \", type(y))"
   ]
  },
  {
   "cell_type": "code",
   "execution_count": 12,
   "metadata": {
    "ExecuteTime": {
     "end_time": "2021-08-22T06:52:41.907980Z",
     "start_time": "2021-08-22T06:52:41.893968Z"
    }
   },
   "outputs": [
    {
     "name": "stdout",
     "output_type": "stream",
     "text": [
      "type division:  <class 'float'> , type sum:  <class 'int'>\n"
     ]
    }
   ],
   "source": [
    "# Print out the result of the divison and sum in this cell\n",
    "print(\"type division: \", type(division_), \", type sum: \", type(sum_))"
   ]
  },
  {
   "cell_type": "markdown",
   "metadata": {},
   "source": [
    "## B. Python Lists, Tuples and Dictionaries\n",
    "\n",
    "A List is a collection which is *ordered* and *changeable*. It allows for *duplicate members*.\n",
    "\n",
    "A Tuple is a collection which is *ordered* and *unchangeable*. It allows for *duplicate members*.\n",
    "\n",
    "A Dictionary is a collection which is *unordered*, *changeable* and *indexed*. *No duplicate* keys allowed"
   ]
  },
  {
   "cell_type": "markdown",
   "metadata": {},
   "source": [
    "### B1\n",
    "\n",
    "**Task**: Create a list which contains the values 1 to 9. **Print out** the **length** of the list and compute the **sum** of the first and last entry by using *indexing*. (3 Points)"
   ]
  },
  {
   "cell_type": "code",
   "execution_count": 13,
   "metadata": {
    "ExecuteTime": {
     "end_time": "2021-08-22T06:56:40.950595Z",
     "start_time": "2021-08-22T06:56:40.940081Z"
    }
   },
   "outputs": [],
   "source": [
    "# Create your list here\n",
    "list_ = [1, 2, 3, 4, 5, 6, 7, 8, 9]"
   ]
  },
  {
   "cell_type": "code",
   "execution_count": 20,
   "metadata": {
    "ExecuteTime": {
     "end_time": "2021-08-22T07:02:22.965780Z",
     "start_time": "2021-08-22T07:02:22.961776Z"
    }
   },
   "outputs": [],
   "source": [
    "# Compute the length of the list\n",
    "length_list = len(list_)"
   ]
  },
  {
   "cell_type": "code",
   "execution_count": 18,
   "metadata": {
    "ExecuteTime": {
     "end_time": "2021-08-22T06:59:32.588234Z",
     "start_time": "2021-08-22T06:59:32.579226Z"
    }
   },
   "outputs": [
    {
     "name": "stdout",
     "output_type": "stream",
     "text": [
      "first entry:  1 , last entry:  9\n"
     ]
    }
   ],
   "source": [
    "# Compute the sum of the first and last entry by using indexing.\n",
    "print(\"first entry: \", list_[0], \", last entry: \", list_[8])"
   ]
  },
  {
   "cell_type": "code",
   "execution_count": 21,
   "metadata": {
    "ExecuteTime": {
     "end_time": "2021-08-22T07:02:32.535582Z",
     "start_time": "2021-08-22T07:02:32.529575Z"
    }
   },
   "outputs": [
    {
     "name": "stdout",
     "output_type": "stream",
     "text": [
      "length of the list:  9\n"
     ]
    }
   ],
   "source": [
    "# Print out the length of the list this cell\n",
    "print(\"length of the list: \", length_list)"
   ]
  },
  {
   "cell_type": "code",
   "execution_count": 27,
   "metadata": {
    "ExecuteTime": {
     "end_time": "2021-08-22T20:07:58.234102Z",
     "start_time": "2021-08-22T20:07:58.220086Z"
    }
   },
   "outputs": [
    {
     "name": "stdout",
     "output_type": "stream",
     "text": [
      "sum of first and last entry:  10\n"
     ]
    }
   ],
   "source": [
    "# Print out the sum of first and last entry in this cell\n",
    "print(\"sum of first and last entry: \", list_[0] + list_[length_list-1])"
   ]
  },
  {
   "cell_type": "markdown",
   "metadata": {},
   "source": [
    "**Task**: Set the first entry of this list to 100 and append the value of 99 to the list. Again **print out** the **length** of this the and compute the **sum** of the first and last entry by using *indexing*. (2 Points)"
   ]
  },
  {
   "cell_type": "code",
   "execution_count": 23,
   "metadata": {
    "ExecuteTime": {
     "end_time": "2021-08-22T20:06:51.074687Z",
     "start_time": "2021-08-22T20:06:51.064677Z"
    }
   },
   "outputs": [],
   "source": [
    "# Modify the elements of your list in this cell\n",
    "list2_ = [100]\n",
    "list2_.append(99)"
   ]
  },
  {
   "cell_type": "code",
   "execution_count": 24,
   "metadata": {
    "ExecuteTime": {
     "end_time": "2021-08-22T20:07:13.988341Z",
     "start_time": "2021-08-22T20:07:13.980335Z"
    }
   },
   "outputs": [],
   "source": [
    "# Compute the length of the list\n",
    "length_list2 = len(list2_)"
   ]
  },
  {
   "cell_type": "code",
   "execution_count": 25,
   "metadata": {
    "ExecuteTime": {
     "end_time": "2021-08-22T20:07:39.282460Z",
     "start_time": "2021-08-22T20:07:39.276455Z"
    }
   },
   "outputs": [],
   "source": [
    "# Compute the sum of the first and last entry by using indexing.\n",
    "sum_list2 = list2_[0] + list2_[length_list2-1]"
   ]
  },
  {
   "cell_type": "code",
   "execution_count": 26,
   "metadata": {
    "ExecuteTime": {
     "end_time": "2021-08-22T20:07:47.616625Z",
     "start_time": "2021-08-22T20:07:47.604615Z"
    }
   },
   "outputs": [
    {
     "name": "stdout",
     "output_type": "stream",
     "text": [
      "length of the list:  2\n"
     ]
    }
   ],
   "source": [
    "# Print out the length of the list this cell\n",
    "print(\"length of the list: \", length_list2)"
   ]
  },
  {
   "cell_type": "code",
   "execution_count": 28,
   "metadata": {
    "ExecuteTime": {
     "end_time": "2021-08-22T20:08:11.238892Z",
     "start_time": "2021-08-22T20:08:11.227884Z"
    }
   },
   "outputs": [
    {
     "name": "stdout",
     "output_type": "stream",
     "text": [
      "sum of first and last entry  199\n"
     ]
    }
   ],
   "source": [
    "# Print out the sum of first and last entry in this cell\n",
    "print(\"sum of first and last entry \", sum_list2)"
   ]
  },
  {
   "cell_type": "markdown",
   "metadata": {},
   "source": [
    "### B2\n",
    "\n",
    "**Task**: Create a tuple which contains the same values as the previously defined list. Try to change the second element of this tuple to 77 and run the script <br /> (*Cell* > *Run All*). Describe which error occurs and why. Make sure to comment this line of code afterwards otherwise cells below will not be executed! \n",
    "(2 Points)"
   ]
  },
  {
   "cell_type": "code",
   "execution_count": 29,
   "metadata": {
    "ExecuteTime": {
     "end_time": "2021-08-22T20:09:03.822152Z",
     "start_time": "2021-08-22T20:09:03.820151Z"
    }
   },
   "outputs": [],
   "source": [
    "# Create the tuple in this cell\n",
    "tuple_ = (100, 99)"
   ]
  },
  {
   "cell_type": "code",
   "execution_count": null,
   "metadata": {},
   "outputs": [],
   "source": [
    "# Try to change the 2nd element of this tuple\n",
    "\n",
    "# tuple_[1] = 77 -> error\n",
    "# 튜플은 요솟값을 지우거나 변경할 수 없음\n",
    "# First execute the code (Cell > Run All) and inspect the error.\n",
    "# Afterwards make sure to comment all code within in this cell - otherwise cells below will not be executed!"
   ]
  },
  {
   "cell_type": "markdown",
   "metadata": {},
   "source": [
    "Write your **answer** about which error occurs and why **here**:\n",
    "\n"
   ]
  },
  {
   "cell_type": "markdown",
   "metadata": {},
   "source": [
    "### B3\n",
    "\n",
    "**Task**: Create a dictionary which contains the following key-value pairs: *City* - *Bonn*, *Street* - *Nussallee*, *HouseNumber* - 15.<br /> Get the value of *HouseNumber* and **print it out**. (3 Points)"
   ]
  },
  {
   "cell_type": "code",
   "execution_count": 30,
   "metadata": {
    "ExecuteTime": {
     "end_time": "2021-08-22T20:11:02.007503Z",
     "start_time": "2021-08-22T20:11:01.994492Z"
    }
   },
   "outputs": [],
   "source": [
    "# Create the dictionary here\n",
    "dict_ = {'city':'Bonn', 'Street':'Nussallee', 'HouseNumber':15}"
   ]
  },
  {
   "cell_type": "code",
   "execution_count": 32,
   "metadata": {
    "ExecuteTime": {
     "end_time": "2021-08-22T20:11:40.999052Z",
     "start_time": "2021-08-22T20:11:40.987041Z"
    }
   },
   "outputs": [
    {
     "name": "stdout",
     "output_type": "stream",
     "text": [
      "15\n"
     ]
    }
   ],
   "source": [
    "# Get the value of 'HouseNumber' and print it in this cell\n",
    "print(dict_['HouseNumber'])"
   ]
  },
  {
   "cell_type": "markdown",
   "metadata": {},
   "source": [
    "**Task**: Add the key-value pair *LectureRoom* : *14* to this dictionary. Finally **print out** all **keys** and **values** of this dictionary. (2 Points)"
   ]
  },
  {
   "cell_type": "code",
   "execution_count": 33,
   "metadata": {
    "ExecuteTime": {
     "end_time": "2021-08-22T20:12:12.261939Z",
     "start_time": "2021-08-22T20:12:12.250929Z"
    }
   },
   "outputs": [],
   "source": [
    "# Add key-value pair\n",
    "dict_['LectureRoom'] = 14"
   ]
  },
  {
   "cell_type": "code",
   "execution_count": 34,
   "metadata": {
    "ExecuteTime": {
     "end_time": "2021-08-22T20:12:50.475788Z",
     "start_time": "2021-08-22T20:12:50.465780Z"
    }
   },
   "outputs": [
    {
     "name": "stdout",
     "output_type": "stream",
     "text": [
      "dict_keys(['city', 'Street', 'HouseNumber', 'LectureRoom'])\n"
     ]
    }
   ],
   "source": [
    "# Print out all keys of the dict\n",
    "print(dict_.keys())"
   ]
  },
  {
   "cell_type": "code",
   "execution_count": 35,
   "metadata": {
    "ExecuteTime": {
     "end_time": "2021-08-22T20:12:59.909839Z",
     "start_time": "2021-08-22T20:12:59.905793Z"
    }
   },
   "outputs": [
    {
     "name": "stdout",
     "output_type": "stream",
     "text": [
      "dict_values(['Bonn', 'Nussallee', 15, 14])\n"
     ]
    }
   ],
   "source": [
    "# Print out all values of the dict\n",
    "print(dict_.values())"
   ]
  },
  {
   "cell_type": "markdown",
   "metadata": {},
   "source": [
    "## C. Python Conditionals and Loops"
   ]
  },
  {
   "cell_type": "markdown",
   "metadata": {},
   "source": [
    "**Task**: You are given a list which contains multiple lists itself which we assign to the variable called *nested_list*.<br>\n",
    "**Print out** the length of *nested_list* and write a *for loop* which **prints** the **length** of each individual list within the *nested_list* (3 Points)"
   ]
  },
  {
   "cell_type": "markdown",
   "metadata": {},
   "source": [
    "**Hint**"
   ]
  },
  {
   "cell_type": "code",
   "execution_count": 36,
   "metadata": {
    "ExecuteTime": {
     "end_time": "2021-08-22T20:13:28.239385Z",
     "start_time": "2021-08-22T20:13:28.226374Z"
    }
   },
   "outputs": [
    {
     "name": "stdout",
     "output_type": "stream",
     "text": [
      "0\n",
      "0\n"
     ]
    }
   ],
   "source": [
    "# Python is picky with tabs! All code you want to run within a loop or condition needs to be indented by 4 spaces.\n",
    "# In case the loop or condition in nested within another loop or condition it needs to be indented by \n",
    "# 8 spaces and so on.\n",
    "\n",
    "# Example\n",
    "for i in range(1):\n",
    "    print(i)             # -> 4 spaces before the print statement\n",
    "    for j in range(1):   # -> 4 spaces before for begins\n",
    "        print(j)         # -> 8 spaces before the print statement"
   ]
  },
  {
   "cell_type": "code",
   "execution_count": 37,
   "metadata": {
    "ExecuteTime": {
     "end_time": "2021-08-22T20:35:28.637908Z",
     "start_time": "2021-08-22T20:35:28.622895Z"
    }
   },
   "outputs": [],
   "source": [
    "# You are a given a nested list\n",
    "nested_list = [[1,2,3,0],\n",
    "               [4,5,0,6, 5],\n",
    "               [7,0,9,0,10, -10]]"
   ]
  },
  {
   "cell_type": "code",
   "execution_count": 39,
   "metadata": {
    "ExecuteTime": {
     "end_time": "2021-08-22T20:36:36.971183Z",
     "start_time": "2021-08-22T20:36:36.961175Z"
    }
   },
   "outputs": [
    {
     "name": "stdout",
     "output_type": "stream",
     "text": [
      "length of nested_list:  3\n"
     ]
    }
   ],
   "source": [
    "# Print out the length of nested_list in this cell\n",
    "print(\"length of nested_list: \", len(nested_list))"
   ]
  },
  {
   "cell_type": "code",
   "execution_count": 41,
   "metadata": {
    "ExecuteTime": {
     "end_time": "2021-08-22T20:39:02.442714Z",
     "start_time": "2021-08-22T20:39:02.431704Z"
    }
   },
   "outputs": [
    {
     "name": "stdout",
     "output_type": "stream",
     "text": [
      "length of  0 :  4\n",
      "length of  1 :  5\n",
      "length of  2 :  6\n"
     ]
    }
   ],
   "source": [
    "# Write the code to print the length of each individual list within the nested_list in this cell by using a loop\n",
    "for i in range(len(nested_list)):\n",
    "    print(\"length of \", i, \": \", len(nested_list[i]))"
   ]
  },
  {
   "cell_type": "markdown",
   "metadata": {},
   "source": [
    "**Task**: Sum up all entries in the nested list by using nested *for loops*. If a entry is equal to zero **print** the string *'Found zero element**. Finally **print out** the result of the **sum**. (3 Points)"
   ]
  },
  {
   "cell_type": "code",
   "execution_count": 53,
   "metadata": {
    "ExecuteTime": {
     "end_time": "2021-08-22T20:42:49.298259Z",
     "start_time": "2021-08-22T20:42:49.294731Z"
    }
   },
   "outputs": [
    {
     "name": "stdout",
     "output_type": "stream",
     "text": [
      "Found zero element:  [ 0 ],  [ 3 ]\n",
      "Found zero element:  [ 1 ],  [ 2 ]\n",
      "Found zero element:  [ 2 ],  [ 1 ]\n",
      "Found zero element:  [ 2 ],  [ 3 ]\n"
     ]
    }
   ],
   "source": [
    "# Write the code to sum up all entries in nested_list in this cell\n",
    "sum_ = 0\n",
    "for i in range(len(nested_list)):\n",
    "    for j in range(len(nested_list[i])):\n",
    "        sum_ = sum_ + nested_list[i][j]\n",
    "        if nested_list[i][j] == 0:\n",
    "            print(\"Found zero element: \", \"[\",i,\"], \", \"[\", j, \"]\")"
   ]
  },
  {
   "cell_type": "code",
   "execution_count": 51,
   "metadata": {
    "ExecuteTime": {
     "end_time": "2021-08-22T20:42:43.684913Z",
     "start_time": "2021-08-22T20:42:43.669900Z"
    }
   },
   "outputs": [
    {
     "name": "stdout",
     "output_type": "stream",
     "text": [
      "sum:  42\n"
     ]
    }
   ],
   "source": [
    "# Print out the result of the sum in this cell\n",
    "print(\"sum: \", sum_)"
   ]
  },
  {
   "cell_type": "markdown",
   "metadata": {},
   "source": [
    "## D. Python Functions\n"
   ]
  },
  {
   "cell_type": "markdown",
   "metadata": {},
   "source": [
    "**Task**: Write a function called *sum_nested_list* which takes as input parameter a nested list and returns the sum of all entries (2 Points)"
   ]
  },
  {
   "cell_type": "code",
   "execution_count": 54,
   "metadata": {
    "ExecuteTime": {
     "end_time": "2021-08-22T20:44:29.159161Z",
     "start_time": "2021-08-22T20:44:29.142146Z"
    }
   },
   "outputs": [],
   "source": [
    "# Define your Function in this cell\n",
    "def sum_nested_list(list_):\n",
    "    sum_ = 0\n",
    "    for i in range(len(list_)):\n",
    "        for j in range(len(list_[i])):\n",
    "            sum_ = sum_ + list_[i][j]\n",
    "    return sum_"
   ]
  },
  {
   "cell_type": "markdown",
   "metadata": {},
   "source": [
    "**Task**: Pass the given variable *another_nested_list* to your function and **print out** the **result** (1 Point)"
   ]
  },
  {
   "cell_type": "code",
   "execution_count": 55,
   "metadata": {
    "ExecuteTime": {
     "end_time": "2021-08-22T20:44:31.606087Z",
     "start_time": "2021-08-22T20:44:31.598080Z"
    }
   },
   "outputs": [],
   "source": [
    "# Given variable another_nested_list \n",
    "another_nested_list = [[22, -22, 33], [-33, 44, 55], [-55, -44, 1, -2]]"
   ]
  },
  {
   "cell_type": "code",
   "execution_count": 56,
   "metadata": {
    "ExecuteTime": {
     "end_time": "2021-08-22T20:44:48.353384Z",
     "start_time": "2021-08-22T20:44:48.342374Z"
    }
   },
   "outputs": [
    {
     "data": {
      "text/plain": [
       "-1"
      ]
     },
     "execution_count": 56,
     "metadata": {},
     "output_type": "execute_result"
    }
   ],
   "source": [
    "# Call your function here\n",
    "sum_nested_list(another_nested_list)"
   ]
  },
  {
   "cell_type": "code",
   "execution_count": 57,
   "metadata": {
    "ExecuteTime": {
     "end_time": "2021-08-22T20:45:26.801076Z",
     "start_time": "2021-08-22T20:45:26.789065Z"
    }
   },
   "outputs": [
    {
     "name": "stdout",
     "output_type": "stream",
     "text": [
      "sum:  -1\n"
     ]
    }
   ],
   "source": [
    "# Print out the sum of all entries here\n",
    "print(\"sum: \", sum_nested_list(another_nested_list))"
   ]
  }
 ],
 "metadata": {
  "kernelspec": {
   "display_name": "Python 3 (ipykernel)",
   "language": "python",
   "name": "python3"
  },
  "language_info": {
   "codemirror_mode": {
    "name": "ipython",
    "version": 3
   },
   "file_extension": ".py",
   "mimetype": "text/x-python",
   "name": "python",
   "nbconvert_exporter": "python",
   "pygments_lexer": "ipython3",
   "version": "3.8.13"
  },
  "toc": {
   "base_numbering": 1,
   "nav_menu": {},
   "number_sections": true,
   "sideBar": true,
   "skip_h1_title": false,
   "title_cell": "Table of Contents",
   "title_sidebar": "Contents",
   "toc_cell": false,
   "toc_position": {},
   "toc_section_display": true,
   "toc_window_display": false
  }
 },
 "nbformat": 4,
 "nbformat_minor": 4
}
